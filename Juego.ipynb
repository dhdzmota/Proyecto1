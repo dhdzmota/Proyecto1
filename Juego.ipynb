{
 "cells": [
  {
   "cell_type": "markdown",
   "metadata": {},
   "source": [
    "# Basta"
   ]
  },
  {
   "cell_type": "markdown",
   "metadata": {},
   "source": []
  },
  {
   "cell_type": "code",
   "execution_count": 6,
   "metadata": {},
   "outputs": [],
   "source": [
    "import re\n",
    "import numpy as np\n",
    "import random"
   ]
  },
  {
   "cell_type": "code",
   "execution_count": 3,
   "metadata": {},
   "outputs": [],
   "source": [
    "list1 = '''La física cuántica es uno de los grandes logros del intelecto humano y es la base de la comprensión de los \n",
    "fenómenos naturales. La física clásica es un límite de la cuántica. La física cuántica explica el átomo, el enlace químico,\n",
    "las moléculas, la interacción de la luz con las partículas, la materia. Aunque la física cuántica describe el mundo a escala\n",
    "atómica podemos observar sus consecuencias a escala macroscópica en las propiedades térmicas (como la radiación), ópticas \n",
    "(como los colores), eléctricas (como la clasificación entre aislantes, metales y semiconductores en los sólidos cristalinos)\n",
    "y magnéticas (como el ferromagnetismo, antiferromagnetismo y otros ordenes magnéticos de la materia). La física cuántica \n",
    "tiene a su vez importantes aplicaciones tecnológicas como la... invención del transistor y por lo tanto del ordenador y es \n",
    "la base de la mayoría de la alta tecnología electrónica que utilizamos hoy en día.\n",
    "\n",
    "La idea principal es que las partículas son también ondas y las ondas son también partículas. La intuición de que las \n",
    "partículas sean también ondas se la debemos a De Broglie que propuso que la velocidad por la masa (denominado momento \n",
    "en física p=mv) de una partícula es inversamente proporcional a la longitud de onda (p=h/λ). El factor proporcional h \n",
    "es la constante de Planck. La hipótesis ondulatoria de las partículas ha sido confirmada numerosas veces en fenómenos \n",
    "de interferencia.\n",
    "\n",
    "El electrón, por ejemplo, es entonces onda y partícula a la vez y se describe por una función de onda que tiene una \n",
    "amplitud y una fase. El cuadrado de la función de onda nos da la probabilidad... de encontrar el electrón y su fase se\n",
    "puede observar porque produce fenómenos de interferencia. La física cuántica es entonces esencialmente probabilística \n",
    "en contraste con la física clásica que es determinista.\n",
    "\n",
    "En física cuántica ya no se pueden usar las ecuaciones de... Newton para describir la evolución de las partículas sino \n",
    "que la propagación de la... función de ondas asociada a una partícula está descrita por la ecuación de Schrödinger.\n",
    "\n",
    "De la teoría de la física cuántica se deducen extrañas consecuencias como el principio de incertidumbre de Heisenberg,\n",
    "el efecto túnel, la cuantización de propiedades tales como la energía o el momento (masa por velocidad) y en sistemas de\n",
    "muchas partículas su clasificación en bosones y fermiones, base para la comprensión del mundo que nos rodea.\n",
    "\n",
    "La superconductividad es uno de los pocos fenómenos macroscópicos que están descritos por una función de onda que se \n",
    "extiende por todo el material lo que nos ofrece una oportunidad... única para observar las rarezas de la física cuántica a \n",
    "escala humana. La fase de esa función de onda es... la clave para el uso de superconductores como los detectores más sensibles\n",
    "del campo magnético (SQUID) con importantes aplicaciones en medicina.\n",
    "\n",
    "No podemos observarlos directamente, pero el comportamiento de átomos, quarks, fotones y todo aquello que compone la realidad\n",
    "a una escala nanométrica o menor... confirma que... aún no sabemos gran cosa del universo. La teoría cuántica –que describe estas \n",
    "diminutas partículas– dejó de ser una rareza antes confinada al laboratorio; ahora invade nuestras vidas y se encuentra en\n",
    "el teléfono inteligente que llevamos en nuestro bolsillo, y hasta en el número de la tarjeta de crédito que usamos para comprar\n",
    "por internet. La “cuántica” aparece cada vez más en términos como “sanación cuántica” y “políticas cuánticas”. Cuántico se ha \n",
    "convertido en una palabra de moda. Cualquier... relevancia científica en estos usos es puramente accidental; sin embargo, esto \n",
    "ilustra que lo “cuántico” posee una mística más allá de lo científico.\n",
    "\n",
    "A pesar de que la mecánica cuántica surgió para resolver un problema científico, más de un siglo después aún guarda algo de\n",
    "misterio... La física cuántica predice comportamientos paradójicos o increíbles. Por ejemplo, una partícula cuántica no posee \n",
    "solo un valor de una cantidad física, sino todos los valores al mismo tiempo, algo que se llama superposición; dos partículas\n",
    "cuánticas pueden permanecer ligadas o “entrelazadas”, aun a distancias ilimitadas y sin ninguna conexión física de por medio;\n",
    "y se pueden teletransportar a través del espacio vacío.\n",
    "\n",
    "En 2011, el físico austríaco Anton Zeilinger aplicó un cuestionario con 16 preguntas de opción múltiple a más de 30 \n",
    "especialistas en teoría cuántica, acerca de sus conceptos básicos y su interpretación. Ninguna de las posibles respuestas\n",
    "recibió apoyo unánime, pues muchas de las preguntas provocaron un amplio rango de opiniones. Según el investigador Charles\n",
    "Clark, codirector del Joint Quantum Institute en la Universidad de Maryland, sería “un gran tema ubicar dónde está el problema”\n",
    "que hace que la teoría cuántica sea tan difícil de interpretar. En parte, esto se debe a que es muy abstracta, por mor de la\n",
    "pequeñez de lo que describe. Cuando pateamos un balón, obtenemos conocimiento empírico de cómo funciona el mundo a una escala\n",
    "humana. Pero no podemos patear un quark o aventar un fotón; solo podemos describir estas partículas con ayuda de la teoría\n",
    "cuántica.\n",
    "\n",
    "Cuando Max Planck inventó la teoría cuántica en 1900, pensó que solo era un truco matemático. Pero su “truco” explicaba por\n",
    "qué los físicos de la época no podían responder a esta pregunta: “¿Cuál es la naturaleza de la luz emitida por una llama o \n",
    "cualquier otro cuerpo caliente?” Sabían que la luz era una onda electromagnética generada por partícu­las cargadas \n",
    "eléctricamente, como los electrones, pero el problema era que los cálculos que usaban para aplicar esta teoría contradecían\n",
    "los resultados del laboratorio del espectro de luz generado por objetos calientes.\n",
    "\n",
    "Planck probó varias soluciones para resolver el problema antes de dar con la idea de que la luz es emitida por medio de energías “cuánticas”, múltiplos exactos de cierta cantidad mínima, o “cuanto”. A esto lo llamó “un acto de desesperación”, pero produjo el espectro correcto de luz de un cuerpo caliente y eso le valió el Premio Nobel en 1918. Después, Albert Einstein y Niels Bohr obtuvieron sus propios premios Nobel al extender el trabajo de Planck. Einstein mostró que la luz viene en discretos paquetes de energía, luego llamados fotones, y Bohr planteó que los electrones en un átomo absorben o emiten fotones al tiempo que brincan entre niveles de energía cuántica.\n",
    "Fue asombroso encontrar que el mundo operaba de esta extraña manera. Ahora se sabe que los saltos cuánticos y todo lo demás son reales. Pero, ¿por qué la humanidad no notó los “cuantos” hasta 1900? Porque hablamos de una cantidad de energía muy pequeña. Incluso el febril brillo de una vela representa un torrente de fotones (trillones por segundo). La luz que irradia una fuente es como arena derramándose de un cubo; parece ser una corriente continua, pero en realidad es una multitud de diminutos granos perdidos dentro del flujo mayor. De forma similar, los saltos cuánticos en los átomos son cambios extremadamente pequeños en la energía, aunque el uso popular de “saltos cuánticos” con frecuencia hace referencia, incorrectamente, a grandes cambios.\n",
    "'''\n",
    "\n",
    "list2 = '''Chernóbil tiene una rica historia que data de la Edad Media (mencionada por primera vez en 1193), y en el\n",
    "siglo XVI fue fuertemente influenciada por los judíos. Chernóbil se vio muy afectada por la Segunda Guerra Mundial y\n",
    "bajo la Unión Soviética se convirtió en la base de reparación de barcos en el río Prípiat. Debido a su densa población\n",
    "y un fácil acceso a los recursos acuáticos, fue elegida por el Ministerio de Energía de la Unión Soviética para la \n",
    "construcción de una central nuclear a 20 kilómetros de Chernóbil. Construcción de la central nuclear de V.I. Lenin empezó\n",
    "en 1970. Al mismo tiempo fue constuida Prípiat, la ciudad-satélite vecinal y después de poner en marcha el primer reactor\n",
    "en 1977 la ciudad de Chernóbil tenía 14000 habitantes. Gracias... a sus buenas conexiones de transporte (autobuses, trenes\n",
    "y hasta barcos) se convirtió en el centro regional con amplias perspectivas. Los planes de los soviéticos en cuanto a la \n",
    "central nuclear fueron extensivos: se suponía que iba a ser la mayor central del mundo con 12 reactores, de los que cada uno\n",
    "generaría una energía de 1000 MW. 4 reactores ya estaban en funcionamiento y otros 2 estaban en construcción cuando su destino\n",
    "cambió para siempre.\n",
    "\n",
    "El accidente de la central nuclear ocurrió el 26 de Abril en 1986. Fue el desastre nuclear más grande en la historia de la \n",
    "humanidad. La explosión tuvo lugar en el cuarto bloque de la central nuclear de Chernóbil, que se encontraba a tan solo 120 \n",
    "kilómetros de la capital ucraniana Kiev y cerca de su frontera con Belarús.\n",
    "\n",
    "La central nuclear de Chernóbil era en aquel tiempo una de las centrales nucleares más grandes del mundo. Fue dedicada al\n",
    "programa militar estratégico de la armada soviética. La explosión fue una desafortunada coincidencia de varios factores. \n",
    "Aparte del hecho de que el rector no tenía actualizado el sistema de seguridad, tenía un bajo nivel de automatización. En \n",
    "la fatídica noche el 26 de abril se estaba llevando a cabo un experimento que debía poner a pruba el rango inercial del \n",
    "turbogenerador. Bajando la producción enérgica hasta el nivel de paralización de la reacción nuclear en cadena, seguido\n",
    "por. un brusco aumento de producción enérgica por... los operadores junto con la... suspensión de la conducción del agua de \n",
    "refrigeración al reactor 1, resultaron en un sobrecalentamiento del comustible y  destrucción de la base del reactor.\n",
    "\n",
    "A la 1:24 (hora local), 40-60 segundos después de haber iniciado la prueba, tuvieron lugar dos gran...des explosiones. Según\n",
    "algunos investigadores del accidente, el hecho de que quitaran todas las barras de control de la parte activa del reactor,\n",
    "junto con la creciente capacidad del reactor, hicieron que la explosión fuera inevitable.  Según las investigaciones los \n",
    "sistemas de seguridad estaban apagados  algunos incluso fuera de servicio en el momento de la explosión inicial. \n",
    "La combinación del vapor radiactivo con hidrógeno arrancó la tapa del reactor de 1,200 toneladas y destruyó el techo. \n",
    "Al cabo de unos segundos llegó otra explosión. Mientras que la primera explosión, según varios estudios independientes,\n",
    "fue química, la segunda, en la que se quemaron los neutrones inmediatos, tenía características de una explosión nuclear\n",
    "con una potencia de 300 toneladas (que equivale a 300 tonedalas de TNT (trinitrotolueno). Según varios\n",
    "testigos la primera explosión fue seguida por una llama roja y la segunda por una llama azul, y al cabo de un rato apareció\n",
    "un hongo nuclear sobre el reactor.\n",
    "\n",
    "El polvo radiactivo empezó a expendirse desde el reactor de la central nuclear destruido y ardiente y contaminó el medio\n",
    "ambiente no solo en sus alrededores, sino también llegó a lugares más lejanos. El primer paso de la liquidación del accidente \n",
    "nuclear fue extinguir el incendio en la sala del reactor ardiente y en el techo de la sala central de la maquinaria.\n",
    "Los primeros en llegar fueron el departamento especial de bomberos de la central nuclear, junto con los bomberos de las\n",
    "ciudades vecinas de Prípiat y Chernóbil. Ellos apagaron el fuego en 3 horas después del accidente. Aunque, en el corazón\n",
    "del reactor, había una mezcla de masas nucleares que contenían comustible que aún estaba ardiendo.\n",
    "\n",
    "Los bomberos que trabajaban en la zona del accidente no sabían qué había causado el incendio y seguían echando agua a las \n",
    "ruinas del reactor. Esto empeoró la situación y provocó varias explosiones menores y una grave contaminación... radiactiva. \n",
    "Para evitar la dispersión de la radiactividad al medio ambiente, llenaron el reactor de 5000 toneladas de boro, dolomita, \n",
    "arena, barro y de un compuesto de plomo,  lanzándolo desde lo alto de unos helicópteros que estaban volando sobre el reactor\n",
    "los días después del accidente. Estas materias llegaron a  extinguir el grafito ardiente y absorber los aerosoles radioactivos.\n",
    "Dos semanas después de la avería los organismos oficiales soviéticos decidieron conservar el bloque colapsado dentro de un \n",
    "sarcófago especial – hecho de hormigón con su propio sistema de refrigeración.\n",
    "'''"
   ]
  },
  {
   "cell_type": "code",
   "execution_count": 22,
   "metadata": {},
   "outputs": [
    {
     "name": "stdout",
     "output_type": "stream",
     "text": [
      "['Palabras junto a una coma: (ingresar con todo y la coma: palabra,)', 'Texto entre paréntesis', 'Número de palabras con 4 vocales', 'Palabras justo antes de los tres puntos (palabra...)', 'Palabras con su primer letra en capital', 'La cantidad de vocales', 'Todas las palabras que empiecen con una vocal y terminen con otra vocal', 'Número de caracteres sin contar espacios', 'La suma de todos los numeros (no digitos)', 'Todas las Palabras con acentos']\n"
     ]
    }
   ],
   "source": [
    "instruction_index = (random.sample(range(1,11),10))\n",
    "\n",
    "instructions={\n",
    "\n",
    "    1: 'Texto entre paréntesis',\n",
    "    2: 'La suma de todos los numeros (no digitos)',\n",
    "    3: 'La cantidad de vocales',\n",
    "    4: 'Todas las palabras que empiecen con una vocal y terminen con otra vocal',\n",
    "    5: 'Número de caracteres sin contar espacios',\n",
    "    6: 'Número de palabras con 4 vocales',\n",
    "    7: 'Todas las Palabras con acentos',\n",
    "    8: 'Palabras con su primer letra en capital',\n",
    "    9: 'Palabras junto a una coma: (ingresar con todo y la coma: palabra,)',\n",
    "    10: 'Palabras justo antes de los tres puntos (palabra...)'\n",
    "}\n",
    "A = [instructions[i] for i in instruction_index]\n",
    "print(A)"
   ]
  },
  {
   "cell_type": "code",
   "execution_count": 1,
   "metadata": {},
   "outputs": [
    {
     "name": "stdout",
     "output_type": "stream",
     "text": [
      "ddfvdfvdvdcscscscdvdvd\n"
     ]
    },
    {
     "data": {
      "text/plain": [
       "'dfvdfvdvdcscscscdvdvd'"
      ]
     },
     "execution_count": 1,
     "metadata": {},
     "output_type": "execute_result"
    }
   ],
   "source": []
  }
 ],
 "metadata": {
  "kernelspec": {
   "display_name": "Python 3",
   "language": "python",
   "name": "python3"
  },
  "language_info": {
   "codemirror_mode": {
    "name": "ipython",
    "version": 3
   },
   "file_extension": ".py",
   "mimetype": "text/x-python",
   "name": "python",
   "nbconvert_exporter": "python",
   "pygments_lexer": "ipython3",
   "version": "3.7.1"
  }
 },
 "nbformat": 4,
 "nbformat_minor": 2
}
